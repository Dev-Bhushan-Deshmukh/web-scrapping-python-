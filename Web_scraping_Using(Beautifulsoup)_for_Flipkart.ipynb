{
  "nbformat": 4,
  "nbformat_minor": 0,
  "metadata": {
    "colab": {
      "provenance": [],
      "authorship_tag": "ABX9TyMNZVsoWPhH3mlFdWuQFf/1",
      "include_colab_link": true
    },
    "kernelspec": {
      "name": "python3",
      "display_name": "Python 3"
    },
    "language_info": {
      "name": "python"
    }
  },
  "cells": [
    {
      "cell_type": "markdown",
      "metadata": {
        "id": "view-in-github",
        "colab_type": "text"
      },
      "source": [
        "<a href=\"https://colab.research.google.com/github/BData97/core-python/blob/main/Web_scraping_Using(Beautifulsoup)_for_Flipkart.ipynb\" target=\"_parent\"><img src=\"https://colab.research.google.com/assets/colab-badge.svg\" alt=\"Open In Colab\"/></a>"
      ]
    },
    {
      "cell_type": "code",
      "execution_count": null,
      "metadata": {
        "id": "r8KlGWlBImF4"
      },
      "outputs": [],
      "source": [
        "import pandas as pd\n",
        "import requests\n",
        "from bs4 import BeautifulSoup"
      ]
    },
    {
      "cell_type": "code",
      "source": [
        "product_name=[]\n",
        "description=[]\n",
        "reviews=[]\n",
        "price=[]\n",
        "re=[]"
      ],
      "metadata": {
        "id": "z_KoYAi5IzU1"
      },
      "execution_count": null,
      "outputs": []
    },
    {
      "cell_type": "code",
      "source": [
        "for i in range(2,12):\n",
        "    URL=\"https://www.flipkart.com/search?q=mobiles++under+50000&otracker=search&otracker1=search&marketplace=FLIPKART&as-show=on&as=off&page=\"+str(i)\n",
        "    r=requests.get(URL)\n",
        "    soup=BeautifulSoup(r.text,\"lxml\")\n",
        "    box=soup.find(\"div\",class_=\"_1YokD2 _3Mn1Gg\")\n",
        "    names=box.find_all(\"div\",class_=\"_4rR01T\")\n",
        "    print(len(names))\n",
        "    for i in names:\n",
        "        name=i.text\n",
        "        product_name.append(name)\n",
        "    print((product_name)) \n",
        "    prices=box.find_all(\"div\",class_=\"_30jeq3 _1_WHN1\")\n",
        "    print(len(prices))\n",
        "    for i in prices:\n",
        "        pr=i.text\n",
        "        price.append(pr)\n",
        "    print(price)   \n",
        "    desc=box.find_all(\"ul\",class_=\"_1xgFaf\")\n",
        "    print(len(desc))\n",
        "    for i in desc:\n",
        "        dscr=i.text\n",
        "        description.append(dscr)\n",
        "    print(description)  \n",
        "    revi=box.find_all(\"div\",class_=\"_3LWZlK\")\n",
        "    print(len(revi))\n",
        "    for i in revi:\n",
        "        a=i.text\n",
        "        print(a)\n",
        "        reviews.append(a)\n",
        "    print(len(reviews))"
      ],
      "metadata": {
        "id": "J8JxjWu6I2F3"
      },
      "execution_count": null,
      "outputs": []
    },
    {
      "cell_type": "code",
      "source": [
        "df=pd.DataFrame({\"product\":product_name,\"price\":price,\"description\":description,\"reviews\":reviews})"
      ],
      "metadata": {
        "id": "RG30eVU4I-Mb"
      },
      "execution_count": null,
      "outputs": []
    },
    {
      "cell_type": "code",
      "source": [
        "df"
      ],
      "metadata": {
        "id": "ucx2k3zYJcvg"
      },
      "execution_count": null,
      "outputs": []
    }
  ]
}